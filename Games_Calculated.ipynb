{
  "nbformat": 4,
  "nbformat_minor": 0,
  "metadata": {
    "colab": {
      "name": "Games-Calculated.ipynb",
      "provenance": [],
      "authorship_tag": "ABX9TyMioGzB5sZ8E4GLx6+cbqDK",
      "include_colab_link": true
    },
    "kernelspec": {
      "name": "python3",
      "display_name": "Python 3"
    },
    "language_info": {
      "name": "python"
    }
  },
  "cells": [
    {
      "cell_type": "markdown",
      "metadata": {
        "id": "view-in-github",
        "colab_type": "text"
      },
      "source": [
        "<a href=\"https://colab.research.google.com/github/jpaulbrowning/basketball/blob/master/Games_Calculated.ipynb\" target=\"_parent\"><img src=\"https://colab.research.google.com/assets/colab-badge.svg\" alt=\"Open In Colab\"/></a>"
      ]
    },
    {
      "cell_type": "code",
      "execution_count": 12,
      "metadata": {
        "colab": {
          "base_uri": "https://localhost:8080/"
        },
        "id": "tP_idop0gFj2",
        "outputId": "205c8fb6-abbd-4b05-b307-c8e30e545414"
      },
      "outputs": [
        {
          "output_type": "stream",
          "name": "stdout",
          "text": [
            "   game_date      home_team  home_score    away_team  away_score\n",
            "0 2015-11-13         Hawaii          87  Montana St.          76\n",
            "1 2015-11-13  Eastern Mich.          70      Vermont          50\n",
            "2 2015-11-13       Columbia         107         Kean          62\n",
            "3 2015-11-13     La.-Monroe          88      McMurry          43\n",
            "4 2015-11-13           Yale          70    Fairfield          57\n"
          ]
        }
      ],
      "source": [
        "import pandas as pd\n",
        "\n",
        "teams_df = pd.read_csv(\"https://lp-prod-resources.s3.amazonaws.com/other/deeplearningbasketballscores/Teams.csv\", names=[\"conference\",\"college\"])\n",
        "games_df = pd.read_csv(\"https://lp-prod-resources.s3.amazonaws.com/other/deeplearningbasketballscores/Games.csv\", names=[\"game_date\",\"home_team\",\"home_score\",\"away_team\",\"away_score\"], parse_dates=[\"game_date\"])\n",
        "\n",
        "\n"
      ]
    },
    {
      "cell_type": "code",
      "source": [
        ""
      ],
      "metadata": {
        "id": "teQZsxdNgYEj"
      },
      "execution_count": null,
      "outputs": []
    }
  ]
}